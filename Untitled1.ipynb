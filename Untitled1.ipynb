{
  "nbformat": 4,
  "nbformat_minor": 0,
  "metadata": {
    "colab": {
      "provenance": [],
      "authorship_tag": "ABX9TyM3IAQ1ruUiUpojkok9kWCy",
      "include_colab_link": true
    },
    "kernelspec": {
      "name": "python3",
      "display_name": "Python 3"
    },
    "language_info": {
      "name": "python"
    }
  },
  "cells": [
    {
      "cell_type": "markdown",
      "metadata": {
        "id": "view-in-github",
        "colab_type": "text"
      },
      "source": [
        "<a href=\"https://colab.research.google.com/github/marcusvbastos/Avalia-o-de-Aprendizado/blob/main/Untitled1.ipynb\" target=\"_parent\"><img src=\"https://colab.research.google.com/assets/colab-badge.svg\" alt=\"Open In Colab\"/></a>"
      ]
    },
    {
      "cell_type": "code",
      "source": [
        "\n",
        "def calcular_metricas(vp, vn, fp, fn):\n",
        "    # Cálculo da Acurácia\n",
        "    n = vp + vn + fp + fn\n",
        "    acuracia = (vp + vn) / n\n",
        "\n",
        "    # Cálculo da Sensibilidade (Recall)\n",
        "    sensibilidade = vp / (vp + fn)\n",
        "\n",
        "    # Cálculo da Especificidade\n",
        "    especificidade = vn / (vn + fp)\n",
        "\n",
        "    # Cálculo da Precisão\n",
        "    precisao = vp / (vp + fp)\n",
        "\n",
        "    # Cálculo do F-score\n",
        "    f_score = 2 * (precisao * sensibilidade) / (precisao + sensibilidade)\n",
        "\n",
        "    return {\n",
        "        'Acurácia': round(acuracia, 3),\n",
        "        'Sensibilidade': round(sensibilidade, 3),\n",
        "        'Especificidade': round(especificidade, 3),\n",
        "        'Precisão': round(precisao, 3),\n",
        "        'F-score': round(f_score, 3)\n",
        "    }\n",
        "\n",
        "# Exemplo de matriz de confusão\n",
        "vp = 85  # Verdadeiros Positivos\n",
        "vn = 90  # Verdadeiros Negativos\n",
        "fp = 15  # Falsos Positivos\n",
        "fn = 10  # Falsos Negativos\n",
        "\n",
        "# Calcular e exibir as métricas\n",
        "resultados = calcular_metricas(vp, vn, fp, fn)\n",
        "\n",
        "print(\"Matriz de Confusão:\")\n",
        "print(f\"VP: {vp} | FN: {fn}\")\n",
        "print(f\"FP: {fp} | VN: {vn}\")\n",
        "print(\"\\nMétricas calculadas:\")\n",
        "for metrica, valor in resultados.items():\n",
        "    print(f\"{metrica}: {valor}\")"
      ],
      "metadata": {
        "colab": {
          "base_uri": "https://localhost:8080/"
        },
        "id": "BjxH_kIdKILe",
        "outputId": "42ee1ce1-bf9d-4212-ce04-3986b6aa4733"
      },
      "execution_count": 2,
      "outputs": [
        {
          "output_type": "stream",
          "name": "stdout",
          "text": [
            "Matriz de Confusão:\n",
            "VP: 85 | FN: 10\n",
            "FP: 15 | VN: 90\n",
            "\n",
            "Métricas calculadas:\n",
            "Acurácia: 0.875\n",
            "Sensibilidade: 0.895\n",
            "Especificidade: 0.857\n",
            "Precisão: 0.85\n",
            "F-score: 0.872\n"
          ]
        }
      ]
    }
  ]
}